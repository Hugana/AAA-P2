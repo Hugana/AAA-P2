{
 "cells": [
  {
   "cell_type": "code",
   "execution_count": 2,
   "id": "bc89fea5-ccac-4b1f-ba1c-57d6a0a7a6e5",
   "metadata": {},
   "outputs": [],
   "source": [
    "import gymnax\n",
    "import gymnasium as gym\n",
    "import jax\n",
    "import numpy as np\n",
    "import random\n",
    "import matplotlib.pyplot as plt\n",
    "import time\n",
    "from RLinJAX import *\n",
    "import pickle"
   ]
  },
  {
   "cell_type": "markdown",
   "id": "ed15ee5b-cd28-4a63-93d9-24197c8f59af",
   "metadata": {},
   "source": [
    "# Mountain Car Environment "
   ]
  },
  {
   "cell_type": "code",
   "execution_count": 3,
   "id": "11e059ba-c51d-4fb8-b5b7-f60469a9e6a2",
   "metadata": {},
   "outputs": [],
   "source": [
    "env = gym.make(\"MountainCar-v0\")"
   ]
  },
  {
   "cell_type": "markdown",
   "id": "531cada8-12bc-4078-8f76-37d107b31b89",
   "metadata": {},
   "source": [
    "The mountain car environment is a classic reinforcement learning environment where the agent is challenged in terms of control and decision-making. This environment is used to test various reinforcement learning algorithms."
   ]
  },
  {
   "cell_type": "markdown",
   "id": "62d8a10e-a36d-4cc1-b1a4-05905a691b5f",
   "metadata": {},
   "source": [
    "## Problem Description\n",
    "\n",
    "In this environment the agent controls a car that is located at the bottom of a valley, and the goal is to reach the top of the hill. However, the car doesn't have enough speed to reach the top, and has to use momentum to gain speed to reach the goal, where elements such as position, speed and gravity are effects that the agent has to take into account."
   ]
  },
  {
   "cell_type": "markdown",
   "id": "74d74165-59fa-4957-95cf-d2729d6c1681",
   "metadata": {},
   "source": [
    "## Key Components\n",
    "\n",
    "This environment has 3 discrete actions in the action space:"
   ]
  },
  {
   "cell_type": "code",
   "execution_count": 4,
   "id": "b607cfb1-01bf-4656-863f-a0277514a9ef",
   "metadata": {},
   "outputs": [
    {
     "name": "stdout",
     "output_type": "stream",
     "text": [
      "Discrete(3)\n",
      "Number of actions: 3\n"
     ]
    }
   ],
   "source": [
    "action_space = env.action_space\n",
    "print(action_space)\n",
    "print(\"Number of actions:\", action_space.n)"
   ]
  },
  {
   "cell_type": "markdown",
   "id": "3168d42d-1822-46d6-a3cf-a32b6d27a143",
   "metadata": {},
   "source": [
    "These actions can be:\n",
    "- 0: accelerate to the left \n",
    "- 1: do not accelerate\n",
    "- 2: accelerate to the right"
   ]
  },
  {
   "cell_type": "markdown",
   "id": "0d0821fc-179f-47db-887b-4a82e0db04f8",
   "metadata": {},
   "source": [
    "The observation space is represented by a two-dimensional array consisting of:\n",
    "\n",
    "- Position: The position of the car on the x-axis where the values are between -1.2 and 0.6.\n",
    "- Velocity : The velocity of the car with values between -0.07 and 0.07"
   ]
  },
  {
   "cell_type": "code",
   "execution_count": 5,
   "id": "17ad8982-1c57-4548-ba50-1f76a0b79ff8",
   "metadata": {},
   "outputs": [
    {
     "name": "stdout",
     "output_type": "stream",
     "text": [
      "Box([-1.2  -0.07], [0.6  0.07], (2,), float32)\n",
      "Observation space low values: [-1.2  -0.07]\n",
      "Observation space high values: [0.6  0.07]\n"
     ]
    }
   ],
   "source": [
    "observation_space = env.observation_space\n",
    "print(observation_space)\n",
    "print(\"Observation space low values:\", observation_space.low)\n",
    "print(\"Observation space high values:\", observation_space.high)"
   ]
  },
  {
   "cell_type": "markdown",
   "id": "826d7a97-0919-4bea-8997-9b7983a658e3",
   "metadata": {},
   "source": [
    "## Transition Dynamics\n",
    "\n",
    "Given a certain action, the car uses the following formulas to calculate its next position and speed:\n",
    "\n",
    "- velocity(t+1) = velocity(t) + (action - 1) * force - cos(3 * position(t)) * gravity\n",
    "\n",
    "- position(t+1) = position(t) + velocity(t+1)\n",
    "\n",
    "Force assumes a value of 0.001 and gravity assumes a value of 0.0025."
   ]
  },
  {
   "cell_type": "markdown",
   "id": "d9d65a3d-b762-4645-a786-7a0faf1a0605",
   "metadata": {},
   "source": [
    "## Reward \n",
    "\n",
    "The objective of this environment is to reach the top of the hill and every time this agent executes a timestep its reward is penalized with -1."
   ]
  },
  {
   "cell_type": "markdown",
   "id": "a2e994a2-e3a8-41e8-b24a-8a32ff5919a5",
   "metadata": {},
   "source": [
    "## Starting State and Episode End \n",
    "\n",
    "At the start of each episode, the car's position takes on a random value between -0.6 and -0.4 and a velocity always equal to 0.\n",
    "\n",
    "This episode ends in two situations:\n",
    "\n",
    "- The car reaches a position greater than or equal to 0.5 (goal position, at the top of the hill on the right).\n",
    "\n",
    "- The agent fails to reach the goal before using the maximum number of steps. And the episode ends\n"
   ]
  },
  {
   "cell_type": "markdown",
   "id": "3f6e0035-5a8e-46b4-bfb5-fd9a7db33759",
   "metadata": {},
   "source": [
    "# Q-Learning\n",
    "\n",
    "Q-Learning is a model-free, off-policy reinforcement learning algorithm used to find an optimal policy in Markov Decision Processes (MDPs). It works by learning a Q-function, which estimates the expected future rewards for taking a particular action in a given state and following the optimal policy thereafter.\n",
    "\n",
    "<img src=\"q-learning-equation.png\" alt='q-learning-equation.png' width=\"500\"/>\n"
   ]
  },
  {
   "cell_type": "markdown",
   "id": "95eaf07b-e0c7-43e4-b00f-b8499073b9fc",
   "metadata": {},
   "source": [
    "This environment has a continuous observation space, as already described, which contains two continuous variables.\n",
    "\n",
    "Since the Q-learning algorithm needs a table to store the discrete values of action and state pairs, it cannot directly use continuous values from the observation space. Therefore, the observation space is discretized into a finite space of bins.\n",
    "\n",
    "In this implementation, 20 bins were assigned to the position values and 15 bins to the velocity values, since the range of values for position is greater than for velocity.\n",
    "\n",
    "These values assigned to the bins result in a q-table with a matrix of dimensions equal to:\n",
    "\n",
    "Q-Table Dim = 900 = 3 (number of actions) * 15 (velocity bins) * 20 (position bins)"
   ]
  },
  {
   "cell_type": "code",
   "execution_count": 6,
   "id": "3d5d17a0-05b1-49c5-a66a-7692b313e4c4",
   "metadata": {},
   "outputs": [
    {
     "name": "stdout",
     "output_type": "stream",
     "text": [
      "Position discrite positions (bins)\n",
      "[-1.2        -1.1052632  -1.0105264  -0.9157895  -0.8210527  -0.72631586\n",
      " -0.631579   -0.5368421  -0.4421053  -0.34736848 -0.2526316  -0.15789473\n",
      " -0.06315792  0.0315789   0.12631583  0.22105265  0.31578946  0.41052628\n",
      "  0.5052631   0.6       ]\n",
      "Velocity discrite velocity values (bins)\n",
      "[-0.07       -0.06       -0.05       -0.04       -0.03       -0.02\n",
      " -0.01        0.          0.01        0.02        0.02999999  0.04\n",
      "  0.05        0.05999999  0.07      ]\n"
     ]
    }
   ],
   "source": [
    "num_position_bins = 20\n",
    "num_velocity_bins = 15\n",
    "position_bins = np.linspace(env.observation_space.low[0], env.observation_space.high[0], num_position_bins)\n",
    "velocity_bins = np.linspace(env.observation_space.low[1], env.observation_space.high[1], num_velocity_bins)\n",
    "\n",
    "print(\"Position discrite positions (bins)\")\n",
    "print(position_bins)\n",
    "print(\"Velocity discrite velocity values (bins)\")\n",
    "print(velocity_bins)"
   ]
  },
  {
   "cell_type": "code",
   "execution_count": 7,
   "id": "0a840244-e28e-4730-9859-7c2c94a73f00",
   "metadata": {},
   "outputs": [],
   "source": [
    "# Q-table initialization\n",
    "num_actions = env.action_space.n"
   ]
  },
  {
   "cell_type": "markdown",
   "id": "dfe48b2a-d971-4f69-b83d-b7e5440bbc02",
   "metadata": {},
   "source": [
    "The discretize_state function is needed to convert the environment's continuous position and velocity values into discrete indices that can be used to access and update the Q-table. Since Q-learning works in a finite, discrete state space, this function ensures that the continuous state values are approximated to their closest discrete intervals."
   ]
  },
  {
   "cell_type": "code",
   "execution_count": 8,
   "id": "be6e0980-5378-42ca-b2ce-444929e4dfab",
   "metadata": {},
   "outputs": [],
   "source": [
    "def discretize_state(state, num_position_bins, num_velocity_bins):\n",
    "    position, velocity = state\n",
    "    position_bin = np.digitize(position, position_bins) - 1  \n",
    "    velocity_bin = np.digitize(velocity, velocity_bins) - 1\n",
    "    position_bin = np.clip(position_bin, 0, num_position_bins - 1)\n",
    "    velocity_bin = np.clip(velocity_bin, 0, num_velocity_bins - 1)\n",
    "    return position_bin, velocity_bin"
   ]
  },
  {
   "cell_type": "markdown",
   "id": "065ddc47-8fc8-4a42-96a3-09a9e6d80756",
   "metadata": {},
   "source": [
    "## Action Selection\n",
    "\n",
    "In this Q-learning implementation, the action was selected using an epsilon-greedy strategy to balance exploration (choosing a random state) and exploitation (choosing the action with the highest Q-value).\n",
    "\n",
    "The epsilon rate serves to reduce the value of the epsilon over the course of the episodes by encouraging exploration in the early episodes and exploitation in the later episodes. "
   ]
  },
  {
   "cell_type": "code",
   "execution_count": 9,
   "id": "c3020528-298b-4ce8-8bd8-5099352e2609",
   "metadata": {},
   "outputs": [],
   "source": [
    "def epsilon_greedy(state, epsilon, q_values_table, num_actions):\n",
    "    if random.uniform(0, 1) < epsilon:\n",
    "        return random.choice(range(num_actions))\n",
    "    else:\n",
    "        position_bin, velocity_bin = state\n",
    "        return np.argmax(q_values_table[position_bin, velocity_bin])"
   ]
  },
  {
   "cell_type": "code",
   "execution_count": 10,
   "id": "85cea76f-0eb7-471e-87d1-480a95ec95ad",
   "metadata": {},
   "outputs": [],
   "source": [
    "def train_q_learning(env, num_position_bins, num_velocity_bins, num_episodes, num_steps, alpha, gamma, epsilon, epsilon_decay, min_epsilon):\n",
    "    # Initialize Q-table\n",
    "    num_actions = env.action_space.n\n",
    "    q_values_table = np.zeros((num_position_bins, num_velocity_bins, num_actions))\n",
    "\n",
    "    episode_rewards = []\n",
    "    episode_lengths = []\n",
    "    goal_reached = False\n",
    "    best_q_table = None\n",
    "    best_reward = -float(\"inf\")  \n",
    "\n",
    "    for episode in range(num_episodes):\n",
    "        # Initialize the state by resetting the environment\n",
    "        state, _ = env.reset()\n",
    "    \n",
    "        # Discretize the state\n",
    "        discretized_state = discretize_state(state, num_position_bins, num_velocity_bins)\n",
    "    \n",
    "        total_reward = 0\n",
    "        for step in range(num_steps):\n",
    "            # Select the action using the epsilon-greedy policy\n",
    "            action = epsilon_greedy(discretized_state, epsilon, q_values_table, num_actions)\n",
    "    \n",
    "            # Perform the selected action and store the next state information\n",
    "            next_state, reward, done, _, _ = env.step(action)\n",
    "    \n",
    "            # Discretize the next state\n",
    "            discretized_next_state = discretize_state(next_state, num_position_bins, num_velocity_bins, env)\n",
    "    \n",
    "            # Find the action a' with the maximum Q-value in the next state\n",
    "            next_action = np.argmax(q_values_table[discretized_next_state])\n",
    "    \n",
    "            # Update Q-value of the state-action pair using the Q-learning update rule\n",
    "            q_values_table[discretized_state[0], discretized_state[1], action] += alpha * (\n",
    "                reward + gamma * q_values_table[discretized_next_state[0], discretized_next_state[1], next_action]\n",
    "                - q_values_table[discretized_state[0], discretized_state[1], action]\n",
    "            )\n",
    "    \n",
    "            # Update current state to next state\n",
    "            discretized_state = discretized_next_state\n",
    "    \n",
    "            # Accumulate total reward\n",
    "            total_reward += reward\n",
    "\n",
    "            # If the current state is the terminal state, break\n",
    "            if done:\n",
    "                goal_reached = True\n",
    "                break\n",
    "                \n",
    "        \n",
    "        if total_reward > best_reward:\n",
    "            best_reward = total_reward\n",
    "            best_q_table = q_values_table.copy()  \n",
    "\n",
    "        episode_rewards.append(total_reward)\n",
    "        episode_lengths.append(step + 1)  \n",
    "\n",
    "        # Decay epsilon\n",
    "        epsilon = max(min_epsilon, epsilon * epsilon_decay)\n",
    "\n",
    "    # Calculate averages\n",
    "    average_reward_all_episodes = np.mean(episode_rewards)\n",
    "    average_reward_last_100_episodes = (np.mean(episode_rewards[-100:]) if len(episode_rewards) >= 100 else average_reward_all_episodes)\n",
    "\n",
    "    result = {\n",
    "        \"average_reward_all_episodes\": average_reward_all_episodes,\n",
    "        \"average_reward_last_100_episodes\": average_reward_last_100_episodes,\n",
    "        \"episode_lengths\": episode_lengths,\n",
    "        \"episode_rewards\": episode_rewards,\n",
    "        \"alpha\": alpha,\n",
    "        \"gamma\": gamma,\n",
    "        \"epsilon_decay\": epsilon_decay,\n",
    "        \"min_epsilon\": min_epsilon,\n",
    "        \"goal_reached\": goal_reached,\n",
    "        \"q_values_table\": q_values_table, \n",
    "        \"best_q_table\": best_q_table,  \n",
    "    }\n",
    "\n",
    "    return result\n"
   ]
  },
  {
   "cell_type": "markdown",
   "id": "e9e1f65f-91a4-4d65-a783-a4eea73e6340",
   "metadata": {},
   "source": [
    "## Hyperparameters \n",
    "\n",
    "In reinforcement learning, the performance of an agent is highly dependent on parameters, which indicate how the agent learns and interacts with the environment. \n",
    "Q-learning relies on some hyperparameters such as learning rate (α), discount factor (γ), and exploration settings (ϵ) to balance exploration and exploitation effectively and optimize the learning process.\n",
    "\n",
    "To address this, we implemented a systematic search for these parameters and their different combinations to identify a combination that maximizes the agent's performance.\n",
    "\n",
    "The parameters that were used were:\n",
    "\n",
    "- Alpha: Controls how quickly the agent updates values in the q table \n",
    "- Gamma: Represents the importance of future rewards.\n",
    "- Epsilon Decay: Regulates the amount of exploration throughout the episodes.\n",
    "- Minimum Epsilon: Establishes a minimum limit for exploration after decreasing through epsilon decay."
   ]
  },
  {
   "cell_type": "raw",
   "id": "50af53f2-486c-44a1-b23a-efb67401d2b7",
   "metadata": {},
   "source": [
    "num_episodes = 50000\n",
    "num_steps = 200\n",
    "epsilon = 1.0  \n",
    "\n",
    "alpha_values = [0.01, 0.1, 0.15]  \n",
    "gamma_values = [0.8, 0.9, 0.99]   \n",
    "epsilon_decay_values = [0.999, 0.9995, 0.9999]  \n",
    "min_epsilon_values = [0.05, 0.1] \n",
    "\n",
    "all_results = []\n",
    "\n",
    "total_iterations = len(alpha_values) * len(gamma_values) * len(epsilon_decay_values) * len(min_epsilon_values)\n",
    "current_iteration = 0\n",
    "\n",
    "for alpha in alpha_values:\n",
    "    for gamma in gamma_values:\n",
    "        for epsilon_decay in epsilon_decay_values:\n",
    "            for min_epsilon in min_epsilon_values:\n",
    "                current_iteration += 1\n",
    "                print(f\"Progress: {current_iteration}/{total_iterations} ({(current_iteration / total_iterations) * 100:.2f}%)\")\n",
    "                \n",
    "                result = train_q_learning(env, num_position_bins ,num_velocity_bins , num_episodes, num_steps, alpha, gamma, epsilon, epsilon_decay, min_epsilon)\n",
    "                all_results.append(result)\n",
    "\n",
    "with open(\"q_learning_results.pickle\", \"wb\") as f:\n",
    "    pickle.dump(all_results, f)\n"
   ]
  },
  {
   "cell_type": "code",
   "execution_count": 11,
   "id": "c92665d1-77c4-424e-8e2a-2df36a09b979",
   "metadata": {},
   "outputs": [
    {
     "name": "stdout",
     "output_type": "stream",
     "text": [
      "Maximum average reward (all episodes): -167.31436 at index 30\n",
      "Maximum average reward (last 100 episodes): -141.72 at index 32\n",
      "\n",
      "Parameters for max average reward (all episodes):\n",
      "{'alpha': 0.1, 'gamma': 0.99, 'epsilon_decay': 0.999, 'min_epsilon': 0.05, 'goal_reached': True}\n",
      "\n",
      "Parameters for max average reward (last 100 episodes):\n",
      "{'alpha': 0.1, 'gamma': 0.99, 'epsilon_decay': 0.9995, 'min_epsilon': 0.05, 'goal_reached': True}\n"
     ]
    }
   ],
   "source": [
    "# Load the results from the pickle file\n",
    "with open(\"q_learning_results.pickle\", \"rb\") as f:\n",
    "    all_results = pickle.load(f)\n",
    "\n",
    "max_avg_reward = all_results[0][\"average_reward_all_episodes\"]\n",
    "max_avg_reward_index = 0\n",
    "\n",
    "max_avg_last_100 = all_results[0][\"average_reward_last_100_episodes\"]\n",
    "max_avg_last_100_index = 0\n",
    "\n",
    "for i in range(1, len(all_results)):\n",
    "    result = all_results[i]\n",
    "    \n",
    "    if result[\"average_reward_all_episodes\"] > max_avg_reward:\n",
    "        max_avg_reward = result[\"average_reward_all_episodes\"]\n",
    "        max_avg_reward_index = i\n",
    "\n",
    "    if result[\"average_reward_last_100_episodes\"] > max_avg_last_100:\n",
    "        max_avg_last_100 = result[\"average_reward_last_100_episodes\"]\n",
    "        max_avg_last_100_index = i\n",
    "\n",
    "print(f\"Maximum average reward (all episodes): {max_avg_reward} at index {max_avg_reward_index}\")\n",
    "print(f\"Maximum average reward (last 100 episodes): {max_avg_last_100} at index {max_avg_last_100_index}\")\n",
    "\n",
    "print(\"\\nParameters for max average reward (all episodes):\")\n",
    "params_all_episodes = {\n",
    "    \"alpha\": all_results[max_avg_reward_index][\"alpha\"],\n",
    "    \"gamma\": all_results[max_avg_reward_index][\"gamma\"],\n",
    "    \"epsilon_decay\": all_results[max_avg_reward_index][\"epsilon_decay\"],\n",
    "    \"min_epsilon\": all_results[max_avg_reward_index][\"min_epsilon\"],\n",
    "    \"goal_reached\": all_results[max_avg_reward_index][\"goal_reached\"],\n",
    "}\n",
    "print(params_all_episodes)\n",
    "\n",
    "print(\"\\nParameters for max average reward (last 100 episodes):\")\n",
    "params_last_100 = {\n",
    "    \"alpha\": all_results[max_avg_last_100_index][\"alpha\"],\n",
    "    \"gamma\": all_results[max_avg_last_100_index][\"gamma\"],\n",
    "    \"epsilon_decay\": all_results[max_avg_last_100_index][\"epsilon_decay\"],\n",
    "    \"min_epsilon\": all_results[max_avg_last_100_index][\"min_epsilon\"],\n",
    "    \"goal_reached\": all_results[max_avg_last_100_index][\"goal_reached\"],\n",
    "}\n",
    "print(params_last_100)\n",
    "\n",
    "episode_rewards_best_average = all_results[max_avg_reward_index][\"episode_rewards\"]\n",
    "episode_rewards_best_last_100 = all_results[max_avg_last_100_index][\"episode_rewards\"]\n",
    "\n",
    "episode_lengths_best_average = all_results[max_avg_reward_index][\"episode_lengths\"]\n",
    "episode_lengths_best_last_100 = all_results[max_avg_last_100_index][\"episode_lengths\"]"
   ]
  },
  {
   "cell_type": "code",
   "execution_count": 12,
   "id": "db760db0-f971-4bc2-95ae-91ea49d8636b",
   "metadata": {
    "jupyter": {
     "source_hidden": true
    }
   },
   "outputs": [
    {
     "data": {
      "image/png": "[encoded data removed]",
      "text/plain": [
       "<Figure size 1200x600 with 2 Axes>"
      ]
     },
     "metadata": {},
     "output_type": "display_data"
    }
   ],
   "source": [
    "# Plot Rewards per Episode\n",
    "plt.figure(figsize=(12, 6))\n",
    "plt.subplot(2, 1, 1)\n",
    "plt.plot(episode_rewards_best_average, label=\"Rewards per Episode\", color=\"blue\")\n",
    "plt.xlabel(\"Episode\")\n",
    "plt.ylabel(\"Total Reward\")\n",
    "plt.title(\"Rewards per Episode\")\n",
    "plt.grid(True)\n",
    "plt.legend()\n",
    "\n",
    "# Plot Steps per Episode\n",
    "plt.subplot(2, 1, 2)\n",
    "plt.plot(episode_lengths_best_average, label=\"Steps per Episode\", color=\"orange\")\n",
    "plt.xlabel(\"Episode\")\n",
    "plt.ylabel(\"Steps Taken\")\n",
    "plt.title(\"Steps per Episode\")\n",
    "plt.grid(True)\n",
    "plt.legend()\n",
    "\n",
    "plt.tight_layout()\n",
    "plt.show()"
   ]
  },
  {
   "cell_type": "code",
   "execution_count": 26,
   "id": "a81d2c4d-e514-4de3-9b3a-5304bb649693",
   "metadata": {},
   "outputs": [],
   "source": [
    "import matplotlib.pyplot as plt\n",
    "from matplotlib.animation import PillowWriter\n",
    "\n",
    "env = gym.make(\"MountainCar-v0\", render_mode=\"rgb_array\")\n",
    "\n",
    "def q_learning_gif(env, q_table, num_position_bins, num_velocity_bins, output_file):\n",
    "    state, _ = env.reset()  \n",
    "    done = False\n",
    "\n",
    "    fig, ax = plt.subplots()\n",
    "    frames = []\n",
    "\n",
    "    while not done:\n",
    "        position_bin, velocity_bin = discretize_state(state, num_position_bins, num_velocity_bins)\n",
    "        \n",
    "        action = np.argmax(q_table[position_bin, velocity_bin])\n",
    "        \n",
    "        state, _, done, _, _ = env.step(action)\n",
    "\n",
    "        frame = env.render()  \n",
    "        frames.append(frame)\n",
    "\n",
    "   \n",
    "    ani = PillowWriter(fps=30)\n",
    "    ani.setup(fig, output_file, dpi=100)\n",
    "    for frame in frames:\n",
    "        ax.clear()\n",
    "        ax.imshow(frame)\n",
    "        ax.axis('off')\n",
    "        ani.grab_frame()\n",
    "    ani.finish()\n",
    "    plt.close(fig)\n",
    "\n",
    "\n",
    "\n",
    "# Save the GIF using Matplotlib\n",
    "best_q_table = all_results[max_avg_last_100_index][\"best_q_table\"]\n",
    "q_learning_gif(env, best_q_table, num_position_bins, num_velocity_bins, \"mountain_car_q_learning.gif\")\n"
   ]
  },
  {
   "cell_type": "markdown",
   "id": "153ebddf-09ec-4cbe-b379-538327a5202e",
   "metadata": {},
   "source": [
    "# Deep Q-Network (dqn)"
   ]
  },
  {
   "cell_type": "code",
   "execution_count": 19,
   "id": "f6e4484f-9d34-4632-a45d-6e9973e2f11d",
   "metadata": {},
   "outputs": [],
   "source": [
    "rng = jax.random.PRNGKey(0)\n",
    "rng, key_reset, key_policy, key_step = jax.random.split(rng, 4)\n",
    "env, env_params = gymnax.make('MountainCar-v0')"
   ]
  },
  {
   "cell_type": "code",
   "execution_count": 20,
   "id": "1c926b35-d6d1-46d6-a9a3-67fd62f9d56b",
   "metadata": {},
   "outputs": [],
   "source": [
    "CONFIGS = {\"dqn\":{\"agent\": \"DuelingQNetwork\",\n",
    "                  \"agent_kwargs\": {\"activation\": \"swish\"},\n",
    "                  \"num_envs\": 10,\n",
    "                  \"buffer_size\": 100_000,\n",
    "                  \"fill_buffer\": 5_000,\n",
    "                  \"batch_size\": 100,\n",
    "                  \"learning_rate\": 0.0003,\n",
    "                  \"polyak\": 0.98,\n",
    "                  \"num_epochs\": 5,\n",
    "                  \"target_update_freq\": 200,\n",
    "                  \"total_timesteps\": 100_000,\n",
    "                  \"eval_freq\": 5000,\n",
    "                  \"eps_start\": 1.0,\n",
    "                  \"eps_end\": 0.01,\n",
    "                  \"exploration_fraction\": 0.3,\n",
    "                  \"gamma\": 0.99,\n",
    "                  \"ddqn\": True\n",
    "                 }\n",
    "          }"
   ]
  },
  {
   "cell_type": "code",
   "execution_count": 21,
   "id": "93d9d657-8431-4fb2-beb8-bba5731fd317",
   "metadata": {},
   "outputs": [],
   "source": [
    "algo_str = \"dqn\"\n",
    "env_str = \"MountainCar-v0\"\n",
    "\n",
    "algo_cls = get_algo(algo_str)\n",
    "algo = algo_cls.create(env=env_str, **CONFIGS.get(algo_str, {}))"
   ]
  },
  {
   "cell_type": "code",
   "execution_count": 14,
   "id": "8da739bb-dc55-4386-9217-0c5ddab1b3f5",
   "metadata": {},
   "outputs": [],
   "source": [
    "# USAR ISTO PARA MUDAR HIPERPARAMETROS\n",
    "#algo = algo.replace(gamma=0.95)"
   ]
  },
  {
   "cell_type": "code",
   "execution_count": 22,
   "id": "46c762d8-d863-4aeb-b68c-0a93fd080c22",
   "metadata": {},
   "outputs": [
    {
     "data": {
      "text/plain": [
       "{'env': <gymnax.environments.classic_control.mountain_car.MountainCar at 0x75d12c68e7b0>,\n",
       " 'env_params': {'max_steps_in_episode': 200,\n",
       "  'min_position': -1.2,\n",
       "  'max_position': 0.6,\n",
       "  'max_speed': 0.07,\n",
       "  'goal_position': 0.5,\n",
       "  'goal_velocity': 0.0,\n",
       "  'force': 0.001,\n",
       "  'gravity': 0.0025},\n",
       " 'eval_callback': <function RLinJAX.algos.algorithm.Algorithm.create.<locals>.eval_callback(algo, ts, rng)>,\n",
       " 'eval_freq': 5000,\n",
       " 'skip_initial_evaluation': False,\n",
       " 'total_timesteps': 100000,\n",
       " 'learning_rate': 0.0003,\n",
       " 'gamma': 0.99,\n",
       " 'max_grad_norm': inf,\n",
       " 'normalize_observations': False,\n",
       " 'target_update_freq': 200,\n",
       " 'polyak': 0.98,\n",
       " 'num_envs': 10,\n",
       " 'buffer_size': 100000,\n",
       " 'fill_buffer': 5000,\n",
       " 'batch_size': 100,\n",
       " 'eps_start': 1.0,\n",
       " 'eps_end': 0.01,\n",
       " 'exploration_fraction': 0.3,\n",
       " 'agent': {'hidden_layer_sizes': (64, 64),\n",
       "  'activation': <PjitFunction>,\n",
       "  'action_dim': 3,\n",
       "  'parent': None,\n",
       "  'name': None},\n",
       " 'num_epochs': 5,\n",
       " 'ddqn': True}"
      ]
     },
     "execution_count": 22,
     "metadata": {},
     "output_type": "execute_result"
    }
   ],
   "source": [
    "algo.config"
   ]
  },
  {
   "cell_type": "code",
   "execution_count": 15,
   "id": "db240e7f-aa8a-49d3-80d4-0cdc6d243d0c",
   "metadata": {},
   "outputs": [
    {
     "name": "stdout",
     "output_type": "stream",
     "text": [
      "Starting to train\n"
     ]
    },
    {
     "name": "stderr",
     "output_type": "stream",
     "text": [
      "/home/hugodnf/Documents/jupyter-workspace/AAA/lib/python3.12/site-packages/jax/_src/numpy/array_methods.py:118: UserWarning: Explicitly requested dtype <class 'jax.numpy.int64'> requested in astype is not available, and will be truncated to dtype int32. To enable more dtypes, set the jax_enable_x64 configuration option or the JAX_ENABLE_X64 shell environment variable. See https://github.com/jax-ml/jax#current-gotchas for more.\n",
      "  return lax_numpy.astype(self, dtype, copy=copy, device=device)\n",
      "/home/hugodnf/Documents/jupyter-workspace/AAA/lib/python3.12/site-packages/jax/_src/numpy/array_methods.py:118: UserWarning: Explicitly requested dtype <class 'jax.numpy.int64'> requested in astype is not available, and will be truncated to dtype int32. To enable more dtypes, set the jax_enable_x64 configuration option or the JAX_ENABLE_X64 shell environment variable. See https://github.com/jax-ml/jax#current-gotchas for more.\n",
      "  return lax_numpy.astype(self, dtype, copy=copy, device=device)\n"
     ]
    },
    {
     "name": "stdout",
     "output_type": "stream",
     "text": [
      "Finished training in 6.28618 seconds (15907.9 steps/second).\n"
     ]
    }
   ],
   "source": [
    "# set training seed and jit train function\n",
    "rng = jax.random.PRNGKey(0)\n",
    "train_fn = jax.jit(algo.train)\n",
    "\n",
    "print(\"Starting to train\")\n",
    "# Train\n",
    "start = time.time()\n",
    "train_state, evaluation = train_fn(rng)\n",
    "time_elapsed = time.time() - start\n",
    "\n",
    "sps = algo.total_timesteps / time_elapsed\n",
    "print(f\"Finished training in {time_elapsed:g} seconds ({sps:g} steps/second).\")"
   ]
  },
  {
   "cell_type": "code",
   "execution_count": 16,
   "id": "b0e4279d-fbad-408c-8b27-cbc452950154",
   "metadata": {},
   "outputs": [
    {
     "name": "stdout",
     "output_type": "stream",
     "text": [
      "Tuple size: 2\n",
      "Episodic lengths and episodic returns shape: (21, 128)\n",
      "100000 / 5000 + 1 = 21.0\n"
     ]
    }
   ],
   "source": [
    "print('Tuple size:', len(evaluation))\n",
    "print('Episodic lengths and episodic returns shape:', evaluation[0].shape)\n",
    "print(f\"{algo.total_timesteps} / {algo.eval_freq} + 1 = {(algo.total_timesteps/algo.eval_freq+1)}\" )"
   ]
  },
  {
   "cell_type": "code",
   "execution_count": 17,
   "id": "e31a1d3d-22d9-4528-8956-c20407f00c6f",
   "metadata": {},
   "outputs": [
    {
     "data": {
      "text/plain": [
       "(Array([[200, 200, 200, ..., 200, 200, 200],\n",
       "        [200, 200, 200, ..., 200, 200, 200],\n",
       "        [200, 200, 200, ..., 200, 200, 200],\n",
       "        ...,\n",
       "        [200, 200, 200, ..., 200, 200, 200],\n",
       "        [200, 200, 200, ..., 200, 200, 200],\n",
       "        [200, 200, 200, ..., 200, 200, 200]], dtype=int32, weak_type=True),\n",
       " Array([[-200., -200., -200., ..., -200., -200., -200.],\n",
       "        [-200., -200., -200., ..., -200., -200., -200.],\n",
       "        [-200., -200., -200., ..., -200., -200., -200.],\n",
       "        ...,\n",
       "        [-200., -200., -200., ..., -200., -200., -200.],\n",
       "        [-200., -200., -200., ..., -200., -200., -200.],\n",
       "        [-200., -200., -200., ..., -200., -200., -200.]],      dtype=float32, weak_type=True))"
      ]
     },
     "execution_count": 17,
     "metadata": {},
     "output_type": "execute_result"
    }
   ],
   "source": [
    "evaluation"
   ]
  },
  {
   "cell_type": "code",
   "execution_count": 18,
   "id": "d774df8e-02aa-4860-a8e4-c9ac6c927546",
   "metadata": {},
   "outputs": [
    {
     "data": {
      "image/png": "[encoded data removed]",
      "text/plain": [
       "<Figure size 640x480 with 1 Axes>"
      ]
     },
     "metadata": {},
     "output_type": "display_data"
    }
   ],
   "source": [
    "episode_lengths, episode_returns = evaluation\n",
    "mean_return = episode_returns.mean(axis=1)\n",
    "\n",
    "plt.plot(jax.numpy.linspace(0, algo.total_timesteps, len(mean_return)), mean_return)\n",
    "plt.xlabel(\"Environment step\")\n",
    "plt.ylabel(\"Episodic return\")\n",
    "plt.title(f\"Training agent for {env_str} using {algo_str}\")\n",
    "plt.show()"
   ]
  },
  {
   "cell_type": "markdown",
   "id": "45889fe0-5143-4cca-8f1a-642ca89a6f8e",
   "metadata": {},
   "source": [
    "# Soft Actor-Critic (sac)"
   ]
  },
  {
   "cell_type": "code",
   "execution_count": null,
   "id": "2e4ff5e5-b9c3-4fca-9491-ed4b22eb72fc",
   "metadata": {},
   "outputs": [],
   "source": []
  }
 ],
 "metadata": {
  "kernelspec": {
   "display_name": "Python 3 (ipykernel)",
   "language": "python",
   "name": "python3"
  },
  "language_info": {
   "codemirror_mode": {
    "name": "ipython",
    "version": 3
   },
   "file_extension": ".py",
   "mimetype": "text/x-python",
   "name": "python",
   "nbconvert_exporter": "python",
   "pygments_lexer": "ipython3",
   "version": "3.12.7"
  }
 },
 "nbformat": 4,
 "nbformat_minor": 5
}
