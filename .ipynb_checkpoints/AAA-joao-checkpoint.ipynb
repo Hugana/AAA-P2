{
 "cells": [
  {
   "cell_type": "code",
   "execution_count": 7,
   "id": "4451fe10-39f7-4f76-9f26-a5cfdd0e2ae9",
   "metadata": {},
   "outputs": [],
   "source": [
    "import gymnasium as gym\n",
    "import numpy as np"
   ]
  },
  {
   "cell_type": "code",
   "execution_count": 2,
   "id": "918c429a-cf0c-47cc-8b13-6e663c0752fa",
   "metadata": {},
   "outputs": [],
   "source": [
    "env = gym.make(\"MountainCar-v0\")"
   ]
  },
  {
   "cell_type": "code",
   "execution_count": 4,
   "id": "8fa2753c-b561-48b7-a1dc-8e5bf0e5804a",
   "metadata": {},
   "outputs": [
    {
     "data": {
      "text/plain": [
       "Box([-1.2  -0.07], [0.6  0.07], (2,), float32)"
      ]
     },
     "execution_count": 4,
     "metadata": {},
     "output_type": "execute_result"
    }
   ],
   "source": [
    "env.observation_space"
   ]
  },
  {
   "cell_type": "code",
   "execution_count": 5,
   "id": "d92f0713-6298-48e1-a5ff-999a583c71ad",
   "metadata": {},
   "outputs": [
    {
     "data": {
      "text/plain": [
       "Discrete(3)"
      ]
     },
     "execution_count": 5,
     "metadata": {},
     "output_type": "execute_result"
    }
   ],
   "source": [
    "env.action_space"
   ]
  },
  {
   "cell_type": "code",
   "execution_count": 10,
   "id": "d3f8da63-0996-4a84-b120-557025e1a7b3",
   "metadata": {},
   "outputs": [],
   "source": [
    "num_bins = 100\n",
    "position_bins = np.linspace(env.observation_space.low[0], env.observation_space.high[0], num_bins)\n",
    "velocity_bins = np.linspace(env.observation_space.low[1], env.observation_space.high[1], num_bins)\n",
    "\n",
    "#print(position_bins)\n",
    "#print(velocity_bins)"
   ]
  },
  {
   "cell_type": "code",
   "execution_count": 11,
   "id": "4b36a126-3991-45cc-902b-3b4dc0d7c17f",
   "metadata": {},
   "outputs": [],
   "source": [
    "num_actions = env.action_space.n\n",
    "q_table = np.zeros((num_bins, num_bins, num_actions))"
   ]
  },
  {
   "cell_type": "code",
   "execution_count": 12,
   "id": "e3307d6a-8670-4d06-99c3-1167ce611a02",
   "metadata": {},
   "outputs": [],
   "source": [
    "def epsilon_greedy(state, epsilon):\n",
    "    if random.uniform(0, 1) < epsilon:\n",
    "        return random.choice(range(num_actions))\n",
    "    else:\n",
    "        position_bin, velocity_bin = state\n",
    "        return np.argmax(q_values_table[position_bin, velocity_bin])"
   ]
  },
  {
   "cell_type": "code",
   "execution_count": null,
   "id": "76e963ad-4062-4668-9af2-848ce77fc65d",
   "metadata": {},
   "outputs": [],
   "source": []
  },
  {
   "cell_type": "code",
   "execution_count": 6,
   "id": "39a88831-cd32-4915-b374-a18b842af08c",
   "metadata": {},
   "outputs": [
    {
     "name": "stderr",
     "output_type": "stream",
     "text": [
      "WARNING:2024-12-16 19:12:52,485:jax._src.xla_bridge:969: An NVIDIA GPU may be present on this machine, but a CUDA-enabled jaxlib is not installed. Falling back to cpu.\n"
     ]
    }
   ],
   "source": [
    "import jax\n",
    "import gymnax\n",
    "\n",
    "rng = jax.random.PRNGKey(0)\n",
    "rng, key_reset, key_policy, key_step = jax.random.split(rng, 4)\n",
    "\n",
    "# create the CartPole-v1 environment\n",
    "env, env_params= gymnax.make(\"MountainCar-v0\")\n"
   ]
  },
  {
   "cell_type": "code",
   "execution_count": 7,
   "id": "3e211669-967b-4154-8101-de89d5a3b517",
   "metadata": {},
   "outputs": [
    {
     "data": {
      "text/plain": [
       "(2,)"
      ]
     },
     "execution_count": 7,
     "metadata": {},
     "output_type": "execute_result"
    }
   ],
   "source": [
    "env.observation_space(env_params).shape"
   ]
  },
  {
   "cell_type": "code",
   "execution_count": 8,
   "id": "fa69cb34-9518-4b93-900d-5f5262ea7290",
   "metadata": {},
   "outputs": [
    {
     "data": {
      "text/plain": [
       "3"
      ]
     },
     "execution_count": 8,
     "metadata": {},
     "output_type": "execute_result"
    }
   ],
   "source": [
    "env.num_actions"
   ]
  },
  {
   "cell_type": "code",
   "execution_count": 9,
   "id": "5e38caa3-5040-4bf8-8857-115c63d5ffd7",
   "metadata": {},
   "outputs": [
    {
     "data": {
      "text/plain": [
       "3"
      ]
     },
     "execution_count": 9,
     "metadata": {},
     "output_type": "execute_result"
    }
   ],
   "source": [
    "env.action_space(env_params).n"
   ]
  },
  {
   "cell_type": "code",
   "execution_count": 10,
   "id": "fc192774-6553-4bf6-b870-3541a17a308b",
   "metadata": {},
   "outputs": [
    {
     "name": "stderr",
     "output_type": "stream",
     "text": [
      "/home/joao/jupyter/lib/python3.12/site-packages/jax/_src/numpy/array_methods.py:118: UserWarning: Explicitly requested dtype <class 'jax.numpy.int64'> requested in astype is not available, and will be truncated to dtype int32. To enable more dtypes, set the jax_enable_x64 configuration option or the JAX_ENABLE_X64 shell environment variable. See https://github.com/jax-ml/jax#current-gotchas for more.\n",
      "  return lax_numpy.astype(self, dtype, copy=copy, device=device)\n"
     ]
    }
   ],
   "source": [
    "obs, state = env.reset(key_reset)\n",
    "action = env.action_space().sample(key_policy)\n",
    "n_obs, n_state, reward, done, _ = env.step(key_step, state, action)"
   ]
  },
  {
   "cell_type": "code",
   "execution_count": null,
   "id": "622645cf-9a0c-4760-8c04-523ffd7a3e8e",
   "metadata": {},
   "outputs": [],
   "source": []
  },
  {
   "cell_type": "code",
   "execution_count": null,
   "id": "07682b29-100e-4f81-97ef-32277af81de7",
   "metadata": {},
   "outputs": [],
   "source": []
  },
  {
   "cell_type": "code",
   "execution_count": null,
   "id": "3621ab53-3cd1-42f0-ac6d-444c1d8c63cd",
   "metadata": {},
   "outputs": [],
   "source": []
  },
  {
   "cell_type": "code",
   "execution_count": 11,
   "id": "3b5ea6bf-9f42-489a-8b7b-6835db8ebe09",
   "metadata": {},
   "outputs": [],
   "source": [
    "import time\n",
    "from RLinJAX import *"
   ]
  },
  {
   "cell_type": "code",
   "execution_count": 44,
   "id": "7185c492-ef47-4e70-a317-9f6b008fc1b1",
   "metadata": {},
   "outputs": [],
   "source": [
    "CONFIGS = {\n",
    "    \"dqn\": {\n",
    "        \"agent\": \"DuelingQNetwork\",\n",
    "        \"agent_kwargs\": {\"activation\": \"swish\"},\n",
    "        \"buffer_size\": 100_000,\n",
    "        \"fill_buffer\": 10_000,\n",
    "        \"batch_size\": 64,\n",
    "        \"learning_rate\": 0.005,\n",
    "        \"polyak\": 0.8, #importante\n",
    "        \"num_epochs\": 5,\n",
    "        \"target_update_freq\": 300,\n",
    "        \"total_timesteps\": 50_000,\n",
    "        \"eval_freq\": 1000,\n",
    "        \"eps_start\": 1.0,\n",
    "        \"eps_end\": 0.01,\n",
    "        \"exploration_fraction\": 0.3,\n",
    "        \"gamma\": 0.99,\n",
    "        \"ddqn\": True\n",
    "    }\n",
    "}\n"
   ]
  },
  {
   "cell_type": "code",
   "execution_count": 45,
   "id": "77fc0816-bca0-4b7c-a924-24b56b99aeec",
   "metadata": {},
   "outputs": [],
   "source": [
    "algo_str = \"dqn\"\n",
    "env_str = \"MountainCar-v0\"\n",
    "\n",
    "algo_cls = get_algo(algo_str)\n",
    "algo = algo_cls.create(env=env_str, **CONFIGS.get(algo_str, {}))"
   ]
  },
  {
   "cell_type": "code",
   "execution_count": 46,
   "id": "13b48a9b-d1ff-425c-b82e-a8fd8267d580",
   "metadata": {},
   "outputs": [
    {
     "data": {
      "text/plain": [
       "{'env': <gymnax.environments.classic_control.mountain_car.MountainCar at 0x75ba18de5bb0>,\n",
       " 'env_params': {'max_steps_in_episode': 200,\n",
       "  'min_position': -1.2,\n",
       "  'max_position': 0.6,\n",
       "  'max_speed': 0.07,\n",
       "  'goal_position': 0.5,\n",
       "  'goal_velocity': 0.0,\n",
       "  'force': 0.001,\n",
       "  'gravity': 0.0025},\n",
       " 'eval_callback': <function RLinJAX.algos.algorithm.Algorithm.create.<locals>.eval_callback(algo, ts, rng)>,\n",
       " 'eval_freq': 1000,\n",
       " 'skip_initial_evaluation': False,\n",
       " 'total_timesteps': 50000,\n",
       " 'learning_rate': 0.005,\n",
       " 'gamma': 0.99,\n",
       " 'max_grad_norm': inf,\n",
       " 'normalize_observations': False,\n",
       " 'target_update_freq': 300,\n",
       " 'polyak': 0.8,\n",
       " 'num_envs': 1,\n",
       " 'buffer_size': 100000,\n",
       " 'fill_buffer': 10000,\n",
       " 'batch_size': 64,\n",
       " 'eps_start': 1.0,\n",
       " 'eps_end': 0.01,\n",
       " 'exploration_fraction': 0.3,\n",
       " 'agent': {'hidden_layer_sizes': (64, 64),\n",
       "  'activation': <PjitFunction>,\n",
       "  'action_dim': 3,\n",
       "  'parent': None,\n",
       "  'name': None},\n",
       " 'num_epochs': 5,\n",
       " 'ddqn': True}"
      ]
     },
     "execution_count": 46,
     "metadata": {},
     "output_type": "execute_result"
    }
   ],
   "source": [
    "algo.config"
   ]
  },
  {
   "cell_type": "code",
   "execution_count": 47,
   "id": "0770d100-8015-40c9-bdd1-c64682ea1660",
   "metadata": {},
   "outputs": [
    {
     "name": "stdout",
     "output_type": "stream",
     "text": [
      "Starting to train\n"
     ]
    },
    {
     "name": "stderr",
     "output_type": "stream",
     "text": [
      "/home/joao/jupyter/lib/python3.12/site-packages/jax/_src/numpy/array_methods.py:118: UserWarning: Explicitly requested dtype <class 'jax.numpy.int64'> requested in astype is not available, and will be truncated to dtype int32. To enable more dtypes, set the jax_enable_x64 configuration option or the JAX_ENABLE_X64 shell environment variable. See https://github.com/jax-ml/jax#current-gotchas for more.\n",
      "  return lax_numpy.astype(self, dtype, copy=copy, device=device)\n",
      "/home/joao/jupyter/lib/python3.12/site-packages/jax/_src/numpy/array_methods.py:118: UserWarning: Explicitly requested dtype <class 'jax.numpy.int64'> requested in astype is not available, and will be truncated to dtype int32. To enable more dtypes, set the jax_enable_x64 configuration option or the JAX_ENABLE_X64 shell environment variable. See https://github.com/jax-ml/jax#current-gotchas for more.\n",
      "  return lax_numpy.astype(self, dtype, copy=copy, device=device)\n"
     ]
    },
    {
     "name": "stdout",
     "output_type": "stream",
     "text": [
      "Finished training in 3.10338 seconds (16111.5 steps/second).\n"
     ]
    }
   ],
   "source": [
    "# set training seed and jit train function\n",
    "rng = jax.random.PRNGKey(0)\n",
    "train_fn = jax.jit(algo.train)\n",
    "\n",
    "print(\"Starting to train\")\n",
    "# Train\n",
    "start = time.time()\n",
    "train_state, evaluation = train_fn(rng)\n",
    "time_elapsed = time.time() - start\n",
    "\n",
    "sps = algo.total_timesteps / time_elapsed\n",
    "print(f\"Finished training in {time_elapsed:g} seconds ({sps:g} steps/second).\")"
   ]
  },
  {
   "cell_type": "code",
   "execution_count": 48,
   "id": "6d4840ce-72a5-42b4-afc0-232dbba2ac23",
   "metadata": {},
   "outputs": [
    {
     "name": "stdout",
     "output_type": "stream",
     "text": [
      "Tuple size: 2\n",
      "Episodic lengths and episodic returns shape: (51, 128)\n",
      "50000 / 1000 + 1 = 51.0\n"
     ]
    }
   ],
   "source": [
    "print('Tuple size:', len(evaluation))\n",
    "print('Episodic lengths and episodic returns shape:', evaluation[0].shape)\n",
    "print(f\"{algo.total_timesteps} / {algo.eval_freq} + 1 = {(algo.total_timesteps/algo.eval_freq+1)}\" )"
   ]
  },
  {
   "cell_type": "code",
   "execution_count": 49,
   "id": "ebc82c6e-d277-4785-8bff-f60cee537b38",
   "metadata": {},
   "outputs": [
    {
     "data": {
      "image/png": "[encoded data removed]",
      "text/plain": [
       "<Figure size 640x480 with 1 Axes>"
      ]
     },
     "metadata": {},
     "output_type": "display_data"
    }
   ],
   "source": [
    "from matplotlib import pyplot as plt\n",
    "\n",
    "episode_lengths, episode_returns = evaluation\n",
    "mean_return = episode_returns.mean(axis=1)\n",
    "\n",
    "plt.plot(jax.numpy.linspace(0, algo.total_timesteps, len(mean_return)), mean_return)\n",
    "plt.xlabel(\"Environment step\")\n",
    "plt.ylabel(\"Episodic return\")\n",
    "plt.title(f\"Training agent for {env_str} using {algo_str}\")\n",
    "plt.show()"
   ]
  },
  {
   "cell_type": "code",
   "execution_count": 50,
   "id": "cfad5a5e-b247-4aee-8ec4-ab311f63ecbf",
   "metadata": {},
   "outputs": [
    {
     "name": "stdout",
     "output_type": "stream",
     "text": [
      "51\n"
     ]
    }
   ],
   "source": [
    "print(len(mean_return))"
   ]
  },
  {
   "cell_type": "code",
   "execution_count": null,
   "id": "35fbc8be-e148-4333-b68f-ab3050ff75d6",
   "metadata": {},
   "outputs": [],
   "source": [
    "hyperparameters = {\n",
    "        \"learning_rate\": 0.005,\n",
    "        \"polyak\": 0.8, \n",
    "        \"target_update_freq\": 300,\n",
    "        \"eps_end\": 0.01,\n",
    "        \"exploration_fraction\": 0.3,\n",
    "        \"gamma\": 0.99,\n",
    "    }"
   ]
  }
 ],
 "metadata": {
  "kernelspec": {
   "display_name": "Python 3 (ipykernel)",
   "language": "python",
   "name": "python3"
  },
  "language_info": {
   "codemirror_mode": {
    "name": "ipython",
    "version": 3
   },
   "file_extension": ".py",
   "mimetype": "text/x-python",
   "name": "python",
   "nbconvert_exporter": "python",
   "pygments_lexer": "ipython3",
   "version": "3.12.3"
  }
 },
 "nbformat": 4,
 "nbformat_minor": 5
}
